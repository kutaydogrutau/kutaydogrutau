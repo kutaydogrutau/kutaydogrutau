{
  "nbformat": 4,
  "nbformat_minor": 0,
  "metadata": {
    "colab": {
      "provenance": [],
      "authorship_tag": "ABX9TyP5rVgRkZZdYJQvF4hYFvAs",
      "include_colab_link": true
    },
    "kernelspec": {
      "name": "python3",
      "display_name": "Python 3"
    },
    "language_info": {
      "name": "python"
    }
  },
  "cells": [
    {
      "cell_type": "markdown",
      "metadata": {
        "id": "view-in-github",
        "colab_type": "text"
      },
      "source": [
        "<a href=\"https://colab.research.google.com/github/kutaydogrutau/kutaydogrutau/blob/main/kendi%C3%A7al%C4%B1%C5%9Fmam.ipynb\" target=\"_parent\"><img src=\"https://colab.research.google.com/assets/colab-badge.svg\" alt=\"Open In Colab\"/></a>"
      ]
    },
    {
      "cell_type": "code",
      "source": [
        "from google.colab import drive\n",
        "drive.mount('/content/drive')"
      ],
      "metadata": {
        "colab": {
          "base_uri": "https://localhost:8080/"
        },
        "id": "8qnUP1C19R-r",
        "outputId": "5d8d9ee3-b669-411c-d04d-993476ab3a4c"
      },
      "execution_count": null,
      "outputs": [
        {
          "output_type": "stream",
          "name": "stdout",
          "text": [
            "Drive already mounted at /content/drive; to attempt to forcibly remount, call drive.mount(\"/content/drive\", force_remount=True).\n"
          ]
        }
      ]
    },
    {
      "cell_type": "code",
      "source": [
        "%cd /content/drive/MyDrive/TacSoftware"
      ],
      "metadata": {
        "colab": {
          "base_uri": "https://localhost:8080/"
        },
        "id": "eaZuEXbh9VuT",
        "outputId": "da60260c-978b-4b1b-ef78-ea17edf2c0e6"
      },
      "execution_count": null,
      "outputs": [
        {
          "output_type": "stream",
          "name": "stdout",
          "text": [
            "/content/drive/.shortcut-targets-by-id/1f5tROXJ-UfJPMgtK010V0Ol3ZTLElEf9/TacSoftware\n"
          ]
        }
      ]
    },
    {
      "cell_type": "code",
      "source": [
        "import os\n",
        "os.chdir('/content/drive/MyDrive/TacSoftware')"
      ],
      "metadata": {
        "id": "0jFXb6cY9iyO"
      },
      "execution_count": null,
      "outputs": []
    },
    {
      "cell_type": "code",
      "source": [
        "%cd /content/drive/MyDrive/TacSoftware/weights"
      ],
      "metadata": {
        "colab": {
          "base_uri": "https://localhost:8080/"
        },
        "id": "RrE_GbZ89oDV",
        "outputId": "bb21ce4d-d872-4a81-897a-170dfa89cd0b"
      },
      "execution_count": null,
      "outputs": [
        {
          "output_type": "stream",
          "name": "stdout",
          "text": [
            "/content/drive/.shortcut-targets-by-id/1f5tROXJ-UfJPMgtK010V0Ol3ZTLElEf9/TacSoftware/weights\n"
          ]
        }
      ]
    },
    {
      "cell_type": "code",
      "source": [
        "!wget -P weights -q https://github.com/THU-MIG/yolov10/releases/download/v1.1/yolov10n.pt"
      ],
      "metadata": {
        "id": "Zp0ghV9yGxyY"
      },
      "execution_count": null,
      "outputs": []
    },
    {
      "cell_type": "code",
      "source": [
        "!pip install -q supervision roboflow\n",
        "!pip install ultralytics"
      ],
      "metadata": {
        "colab": {
          "base_uri": "https://localhost:8080/"
        },
        "id": "o_lDo0R2Iosz",
        "outputId": "557fba63-8a3d-4349-8c36-8f9c7d5ad2fc"
      },
      "execution_count": null,
      "outputs": [
        {
          "output_type": "stream",
          "name": "stdout",
          "text": [
            "Collecting ultralytics\n",
            "  Downloading ultralytics-8.3.49-py3-none-any.whl.metadata (35 kB)\n",
            "Requirement already satisfied: numpy>=1.23.0 in /usr/local/lib/python3.10/dist-packages (from ultralytics) (1.26.4)\n",
            "Requirement already satisfied: matplotlib>=3.3.0 in /usr/local/lib/python3.10/dist-packages (from ultralytics) (3.8.0)\n",
            "Requirement already satisfied: opencv-python>=4.6.0 in /usr/local/lib/python3.10/dist-packages (from ultralytics) (4.10.0.84)\n",
            "Requirement already satisfied: pillow>=7.1.2 in /usr/local/lib/python3.10/dist-packages (from ultralytics) (11.0.0)\n",
            "Requirement already satisfied: pyyaml>=5.3.1 in /usr/local/lib/python3.10/dist-packages (from ultralytics) (6.0.2)\n",
            "Requirement already satisfied: requests>=2.23.0 in /usr/local/lib/python3.10/dist-packages (from ultralytics) (2.32.3)\n",
            "Requirement already satisfied: scipy>=1.4.1 in /usr/local/lib/python3.10/dist-packages (from ultralytics) (1.13.1)\n",
            "Requirement already satisfied: torch>=1.8.0 in /usr/local/lib/python3.10/dist-packages (from ultralytics) (2.5.1+cu121)\n",
            "Requirement already satisfied: torchvision>=0.9.0 in /usr/local/lib/python3.10/dist-packages (from ultralytics) (0.20.1+cu121)\n",
            "Requirement already satisfied: tqdm>=4.64.0 in /usr/local/lib/python3.10/dist-packages (from ultralytics) (4.66.6)\n",
            "Requirement already satisfied: psutil in /usr/local/lib/python3.10/dist-packages (from ultralytics) (5.9.5)\n",
            "Requirement already satisfied: py-cpuinfo in /usr/local/lib/python3.10/dist-packages (from ultralytics) (9.0.0)\n",
            "Requirement already satisfied: pandas>=1.1.4 in /usr/local/lib/python3.10/dist-packages (from ultralytics) (2.2.2)\n",
            "Requirement already satisfied: seaborn>=0.11.0 in /usr/local/lib/python3.10/dist-packages (from ultralytics) (0.13.2)\n",
            "Collecting ultralytics-thop>=2.0.0 (from ultralytics)\n",
            "  Downloading ultralytics_thop-2.0.13-py3-none-any.whl.metadata (9.4 kB)\n",
            "Requirement already satisfied: contourpy>=1.0.1 in /usr/local/lib/python3.10/dist-packages (from matplotlib>=3.3.0->ultralytics) (1.3.1)\n",
            "Requirement already satisfied: cycler>=0.10 in /usr/local/lib/python3.10/dist-packages (from matplotlib>=3.3.0->ultralytics) (0.12.1)\n",
            "Requirement already satisfied: fonttools>=4.22.0 in /usr/local/lib/python3.10/dist-packages (from matplotlib>=3.3.0->ultralytics) (4.55.1)\n",
            "Requirement already satisfied: kiwisolver>=1.0.1 in /usr/local/lib/python3.10/dist-packages (from matplotlib>=3.3.0->ultralytics) (1.4.7)\n",
            "Requirement already satisfied: packaging>=20.0 in /usr/local/lib/python3.10/dist-packages (from matplotlib>=3.3.0->ultralytics) (24.2)\n",
            "Requirement already satisfied: pyparsing>=2.3.1 in /usr/local/lib/python3.10/dist-packages (from matplotlib>=3.3.0->ultralytics) (3.2.0)\n",
            "Requirement already satisfied: python-dateutil>=2.7 in /usr/local/lib/python3.10/dist-packages (from matplotlib>=3.3.0->ultralytics) (2.8.2)\n",
            "Requirement already satisfied: pytz>=2020.1 in /usr/local/lib/python3.10/dist-packages (from pandas>=1.1.4->ultralytics) (2024.2)\n",
            "Requirement already satisfied: tzdata>=2022.7 in /usr/local/lib/python3.10/dist-packages (from pandas>=1.1.4->ultralytics) (2024.2)\n",
            "Requirement already satisfied: charset-normalizer<4,>=2 in /usr/local/lib/python3.10/dist-packages (from requests>=2.23.0->ultralytics) (3.4.0)\n",
            "Requirement already satisfied: idna<4,>=2.5 in /usr/local/lib/python3.10/dist-packages (from requests>=2.23.0->ultralytics) (3.7)\n",
            "Requirement already satisfied: urllib3<3,>=1.21.1 in /usr/local/lib/python3.10/dist-packages (from requests>=2.23.0->ultralytics) (2.2.3)\n",
            "Requirement already satisfied: certifi>=2017.4.17 in /usr/local/lib/python3.10/dist-packages (from requests>=2.23.0->ultralytics) (2024.8.30)\n",
            "Requirement already satisfied: filelock in /usr/local/lib/python3.10/dist-packages (from torch>=1.8.0->ultralytics) (3.16.1)\n",
            "Requirement already satisfied: typing-extensions>=4.8.0 in /usr/local/lib/python3.10/dist-packages (from torch>=1.8.0->ultralytics) (4.12.2)\n",
            "Requirement already satisfied: networkx in /usr/local/lib/python3.10/dist-packages (from torch>=1.8.0->ultralytics) (3.4.2)\n",
            "Requirement already satisfied: jinja2 in /usr/local/lib/python3.10/dist-packages (from torch>=1.8.0->ultralytics) (3.1.4)\n",
            "Requirement already satisfied: fsspec in /usr/local/lib/python3.10/dist-packages (from torch>=1.8.0->ultralytics) (2024.10.0)\n",
            "Requirement already satisfied: sympy==1.13.1 in /usr/local/lib/python3.10/dist-packages (from torch>=1.8.0->ultralytics) (1.13.1)\n",
            "Requirement already satisfied: mpmath<1.4,>=1.1.0 in /usr/local/lib/python3.10/dist-packages (from sympy==1.13.1->torch>=1.8.0->ultralytics) (1.3.0)\n",
            "Requirement already satisfied: six>=1.5 in /usr/local/lib/python3.10/dist-packages (from python-dateutil>=2.7->matplotlib>=3.3.0->ultralytics) (1.16.0)\n",
            "Requirement already satisfied: MarkupSafe>=2.0 in /usr/local/lib/python3.10/dist-packages (from jinja2->torch>=1.8.0->ultralytics) (3.0.2)\n",
            "Downloading ultralytics-8.3.49-py3-none-any.whl (898 kB)\n",
            "\u001b[2K   \u001b[90m━━━━━━━━━━━━━━━━━━━━━━━━━━━━━━━━━━━━━━━━\u001b[0m \u001b[32m898.7/898.7 kB\u001b[0m \u001b[31m24.3 MB/s\u001b[0m eta \u001b[36m0:00:00\u001b[0m\n",
            "\u001b[?25hDownloading ultralytics_thop-2.0.13-py3-none-any.whl (26 kB)\n",
            "Installing collected packages: ultralytics-thop, ultralytics\n",
            "Successfully installed ultralytics-8.3.49 ultralytics-thop-2.0.13\n"
          ]
        }
      ]
    },
    {
      "cell_type": "code",
      "source": [
        "%cd /content/drive/MyDrive/TacSoftware"
      ],
      "metadata": {
        "colab": {
          "base_uri": "https://localhost:8080/"
        },
        "id": "oVYC21nDJdgA",
        "outputId": "00605aab-2311-4a2c-b76e-38899a824605"
      },
      "execution_count": null,
      "outputs": [
        {
          "output_type": "stream",
          "name": "stdout",
          "text": [
            "/content/drive/.shortcut-targets-by-id/1f5tROXJ-UfJPMgtK010V0Ol3ZTLElEf9/TacSoftware\n"
          ]
        }
      ]
    },
    {
      "cell_type": "code",
      "source": [
        "from ultralytics import YOLO\n",
        "from google.colab import files\n",
        "\n",
        "# Modeli yükle\n",
        "model = YOLO('weights/yolov10n.pt')\n",
        "\n",
        "# Tahmin işlemi yap\n",
        "results = model.predict(\n",
        "    source='datasets/Labeling-Traffic-Signs-1/train/images/Screenshot-2024-05-31-013636_png.rf.1ff8dc1b163a5a8aa0659a5a10e333eb.jpg',\n",
        "    conf=0.01,\n",
        "    imgsz=640,\n",
        "    save=True\n",
        "  )\n",
        "print(results)  # Algılanan nesnelerin özetini verir\n",
        "for r in results:\n",
        "    print(r.boxes)  # Algılanan nesnelerin çerçeve bilgileri\n",
        "\n",
        "# Çıktı görselinin varsayılan yolu\n",
        "output_file = 'runs/detect/predict10'\n",
        "\n",
        "# Görseli indir\n",
        "files.download(output_file)\n"
      ],
      "metadata": {
        "colab": {
          "base_uri": "https://localhost:8080/",
          "height": 1000
        },
        "id": "JhS2LWjwIS0u",
        "outputId": "b211f6c0-cb10-4465-e447-7b438871672e"
      },
      "execution_count": null,
      "outputs": [
        {
          "output_type": "stream",
          "name": "stdout",
          "text": [
            "\n",
            "image 1/1 /content/drive/.shortcut-targets-by-id/1f5tROXJ-UfJPMgtK010V0Ol3ZTLElEf9/TacSoftware/datasets/Labeling-Traffic-Signs-1/train/images/Screenshot-2024-05-31-013636_png.rf.1ff8dc1b163a5a8aa0659a5a10e333eb.jpg: 640x640 4 persons, 19 cars, 1 bus, 8 trucks, 3 traffic lights, 3 stop signs, 260.1ms\n",
            "Speed: 3.4ms preprocess, 260.1ms inference, 0.3ms postprocess per image at shape (1, 3, 640, 640)\n",
            "Results saved to \u001b[1mruns/detect/predict13\u001b[0m\n",
            "[ultralytics.engine.results.Results object with attributes:\n",
            "\n",
            "boxes: ultralytics.engine.results.Boxes object\n",
            "keypoints: None\n",
            "masks: None\n",
            "names: {0: 'person', 1: 'bicycle', 2: 'car', 3: 'motorcycle', 4: 'airplane', 5: 'bus', 6: 'train', 7: 'truck', 8: 'boat', 9: 'traffic light', 10: 'fire hydrant', 11: 'stop sign', 12: 'parking meter', 13: 'bench', 14: 'bird', 15: 'cat', 16: 'dog', 17: 'horse', 18: 'sheep', 19: 'cow', 20: 'elephant', 21: 'bear', 22: 'zebra', 23: 'giraffe', 24: 'backpack', 25: 'umbrella', 26: 'handbag', 27: 'tie', 28: 'suitcase', 29: 'frisbee', 30: 'skis', 31: 'snowboard', 32: 'sports ball', 33: 'kite', 34: 'baseball bat', 35: 'baseball glove', 36: 'skateboard', 37: 'surfboard', 38: 'tennis racket', 39: 'bottle', 40: 'wine glass', 41: 'cup', 42: 'fork', 43: 'knife', 44: 'spoon', 45: 'bowl', 46: 'banana', 47: 'apple', 48: 'sandwich', 49: 'orange', 50: 'broccoli', 51: 'carrot', 52: 'hot dog', 53: 'pizza', 54: 'donut', 55: 'cake', 56: 'chair', 57: 'couch', 58: 'potted plant', 59: 'bed', 60: 'dining table', 61: 'toilet', 62: 'tv', 63: 'laptop', 64: 'mouse', 65: 'remote', 66: 'keyboard', 67: 'cell phone', 68: 'microwave', 69: 'oven', 70: 'toaster', 71: 'sink', 72: 'refrigerator', 73: 'book', 74: 'clock', 75: 'vase', 76: 'scissors', 77: 'teddy bear', 78: 'hair drier', 79: 'toothbrush'}\n",
            "obb: None\n",
            "orig_img: array([[[164, 177, 185],\n",
            "        [168, 181, 189],\n",
            "        [161, 173, 179],\n",
            "        ...,\n",
            "        [ 30,  19,  15],\n",
            "        [ 32,  21,  17],\n",
            "        [ 34,  23,  19]],\n",
            "\n",
            "       [[163, 176, 184],\n",
            "        [168, 181, 189],\n",
            "        [162, 174, 180],\n",
            "        ...,\n",
            "        [ 28,  17,  13],\n",
            "        [ 30,  19,  15],\n",
            "        [ 32,  21,  17]],\n",
            "\n",
            "       [[162, 176, 182],\n",
            "        [168, 182, 188],\n",
            "        [163, 175, 181],\n",
            "        ...,\n",
            "        [ 25,  14,  10],\n",
            "        [ 26,  15,  11],\n",
            "        [ 28,  17,  13]],\n",
            "\n",
            "       ...,\n",
            "\n",
            "       [[ 28,  25,  27],\n",
            "        [ 27,  26,  28],\n",
            "        [ 30,  27,  29],\n",
            "        ...,\n",
            "        [ 27,  23,  18],\n",
            "        [ 33,  31,  23],\n",
            "        [ 38,  36,  28]],\n",
            "\n",
            "       [[ 34,  33,  37],\n",
            "        [ 33,  34,  38],\n",
            "        [ 36,  35,  39],\n",
            "        ...,\n",
            "        [ 27,  23,  18],\n",
            "        [ 32,  30,  22],\n",
            "        [ 37,  35,  27]],\n",
            "\n",
            "       [[ 39,  40,  44],\n",
            "        [ 41,  42,  46],\n",
            "        [ 43,  44,  48],\n",
            "        ...,\n",
            "        [ 27,  23,  18],\n",
            "        [ 32,  30,  22],\n",
            "        [ 36,  34,  26]]], dtype=uint8)\n",
            "orig_shape: (640, 640)\n",
            "path: '/content/drive/.shortcut-targets-by-id/1f5tROXJ-UfJPMgtK010V0Ol3ZTLElEf9/TacSoftware/datasets/Labeling-Traffic-Signs-1/train/images/Screenshot-2024-05-31-013636_png.rf.1ff8dc1b163a5a8aa0659a5a10e333eb.jpg'\n",
            "probs: None\n",
            "save_dir: 'runs/detect/predict13'\n",
            "speed: {'preprocess': 3.446817398071289, 'inference': 260.07771492004395, 'postprocess': 0.34880638122558594}]\n",
            "ultralytics.engine.results.Boxes object with attributes:\n",
            "\n",
            "cls: tensor([ 2.,  2., 11.,  2.,  2.,  2.,  2.,  2.,  2.,  2.,  7., 11.,  7.,  9.,  2.,  2., 11.,  0.,  9.,  5.,  2.,  7.,  7.,  2.,  7.,  7.,  7.,  2.,  0.,  0.,  9.,  2.,  2.,  0.,  2.,  2.,  2.,  7.])\n",
            "conf: tensor([0.8657, 0.8572, 0.8552, 0.8186, 0.7834, 0.7191, 0.7024, 0.6810, 0.6385, 0.2998, 0.1443, 0.1416, 0.1268, 0.1077, 0.0673, 0.0646, 0.0457, 0.0421, 0.0380, 0.0333, 0.0309, 0.0237, 0.0216, 0.0213, 0.0210, 0.0191, 0.0181, 0.0176, 0.0169, 0.0164, 0.0146, 0.0145, 0.0140, 0.0119, 0.0112, 0.0111, 0.0109, 0.0102])\n",
            "data: tensor([[1.7874e+02, 4.3143e+02, 2.7646e+02, 5.5365e+02, 8.6570e-01, 2.0000e+00],\n",
            "        [2.3289e+02, 5.1188e+02, 5.5079e+02, 6.3973e+02, 8.5725e-01, 2.0000e+00],\n",
            "        [3.4051e+01, 2.6402e+02, 8.5166e+01, 3.4586e+02, 8.5523e-01, 1.1000e+01],\n",
            "        [1.5395e+02, 3.9072e+02, 2.5274e+02, 5.1376e+02, 8.1863e-01, 2.0000e+00],\n",
            "        [2.4368e+02, 4.5299e+02, 3.6495e+02, 5.6819e+02, 7.8339e-01, 2.0000e+00],\n",
            "        [5.5672e+02, 5.7634e+02, 6.3975e+02, 6.3973e+02, 7.1909e-01, 2.0000e+00],\n",
            "        [1.3283e+02, 3.3713e+02, 2.6462e+02, 4.0476e+02, 7.0242e-01, 2.0000e+00],\n",
            "        [1.2136e-01, 4.8656e+02, 4.5095e+01, 6.0217e+02, 6.8101e-01, 2.0000e+00],\n",
            "        [8.7185e+01, 3.7837e+02, 1.6771e+02, 4.7072e+02, 6.3846e-01, 2.0000e+00],\n",
            "        [8.3675e+01, 3.6449e+02, 1.3451e+02, 4.5553e+02, 2.9982e-01, 2.0000e+00],\n",
            "        [2.4368e+02, 4.5299e+02, 3.6495e+02, 5.6819e+02, 1.4432e-01, 7.0000e+00],\n",
            "        [3.2628e+01, 3.5453e+02, 8.5305e+01, 4.4091e+02, 1.4163e-01, 1.1000e+01],\n",
            "        [2.3289e+02, 5.1188e+02, 5.5079e+02, 6.3973e+02, 1.2678e-01, 7.0000e+00],\n",
            "        [3.6294e+02, 2.7330e+02, 4.0487e+02, 3.8455e+02, 1.0771e-01, 9.0000e+00],\n",
            "        [1.3270e+02, 3.3674e+02, 2.6435e+02, 4.0138e+02, 6.7333e-02, 2.0000e+00],\n",
            "        [3.7944e+02, 4.6196e+02, 4.6761e+02, 5.1075e+02, 6.4613e-02, 2.0000e+00],\n",
            "        [4.5483e+02, 3.0055e+02, 5.0281e+02, 3.7512e+02, 4.5652e-02, 1.1000e+01],\n",
            "        [3.3855e+02, 4.0643e+02, 3.5235e+02, 4.3829e+02, 4.2107e-02, 0.0000e+00],\n",
            "        [4.1526e+02, 2.8842e+02, 4.5683e+02, 4.4565e+02, 3.7950e-02, 9.0000e+00],\n",
            "        [8.5789e-01, 2.3182e+02, 5.9741e+01, 3.7079e+02, 3.3334e-02, 5.0000e+00],\n",
            "        [5.6586e+02, 4.1142e+02, 6.3974e+02, 4.7943e+02, 3.0931e-02, 2.0000e+00],\n",
            "        [8.7185e+01, 3.7837e+02, 1.6771e+02, 4.7072e+02, 2.3715e-02, 7.0000e+00],\n",
            "        [1.5395e+02, 3.9072e+02, 2.5274e+02, 5.1376e+02, 2.1612e-02, 7.0000e+00],\n",
            "        [1.1765e-01, 4.8612e+02, 4.5413e+01, 6.3764e+02, 2.1264e-02, 2.0000e+00],\n",
            "        [1.2136e-01, 4.8656e+02, 4.5095e+01, 6.0217e+02, 2.0980e-02, 7.0000e+00],\n",
            "        [8.5789e-01, 2.3182e+02, 5.9741e+01, 3.7079e+02, 1.9066e-02, 7.0000e+00],\n",
            "        [1.7874e+02, 4.3143e+02, 2.7646e+02, 5.5365e+02, 1.8098e-02, 7.0000e+00],\n",
            "        [8.3480e+01, 3.6497e+02, 1.6677e+02, 4.6547e+02, 1.7594e-02, 2.0000e+00],\n",
            "        [3.4115e+02, 4.1353e+02, 3.7957e+02, 4.9041e+02, 1.6946e-02, 0.0000e+00],\n",
            "        [3.4976e+02, 4.1356e+02, 3.6242e+02, 4.4225e+02, 1.6357e-02, 0.0000e+00],\n",
            "        [4.5277e+02, 3.7371e+02, 5.0247e+02, 4.5429e+02, 1.4578e-02, 9.0000e+00],\n",
            "        [8.5454e+01, 3.6510e+02, 1.3568e+02, 4.0748e+02, 1.4547e-02, 2.0000e+00],\n",
            "        [6.2882e+02, 6.0748e+02, 6.3975e+02, 6.3992e+02, 1.3962e-02, 2.0000e+00],\n",
            "        [1.2136e-01, 4.8656e+02, 4.5095e+01, 6.0217e+02, 1.1921e-02, 0.0000e+00],\n",
            "        [5.6728e+02, 4.0783e+02, 6.3975e+02, 4.6323e+02, 1.1234e-02, 2.0000e+00],\n",
            "        [1.3378e+02, 3.4943e+02, 1.9268e+02, 3.9256e+02, 1.1133e-02, 2.0000e+00],\n",
            "        [1.5479e+02, 4.1208e+02, 1.9175e+02, 5.1308e+02, 1.0944e-02, 2.0000e+00],\n",
            "        [1.3283e+02, 3.3713e+02, 2.6462e+02, 4.0476e+02, 1.0239e-02, 7.0000e+00]])\n",
            "id: None\n",
            "is_track: False\n",
            "orig_shape: (640, 640)\n",
            "shape: torch.Size([38, 6])\n",
            "xywh: tensor([[227.5988, 492.5369,  97.7272, 122.2202],\n",
            "        [391.8416, 575.8015, 317.8997, 127.8497],\n",
            "        [ 59.6089, 304.9424,  51.1149,  81.8377],\n",
            "        [203.3448, 452.2368,  98.7948, 123.0372],\n",
            "        [304.3157, 510.5883, 121.2706, 115.1948],\n",
            "        [598.2360, 608.0334,  83.0281,  63.3849],\n",
            "        [198.7229, 370.9406, 131.7847,  67.6305],\n",
            "        [ 22.6084, 544.3665,  44.9740, 115.6077],\n",
            "        [127.4499, 424.5490,  80.5290,  92.3483],\n",
            "        [109.0942, 410.0121,  50.8376,  91.0357],\n",
            "        [304.3157, 510.5883, 121.2706, 115.1948],\n",
            "        [ 58.9664, 397.7232,  52.6764,  86.3823],\n",
            "        [391.8416, 575.8015, 317.8997, 127.8497],\n",
            "        [383.9044, 328.9279,  41.9362, 111.2521],\n",
            "        [198.5273, 369.0596, 131.6462,  64.6320],\n",
            "        [423.5276, 486.3558,  88.1658,  48.7942],\n",
            "        [478.8232, 337.8341,  47.9828,  74.5695],\n",
            "        [345.4462, 422.3609,  13.7987,  31.8520],\n",
            "        [436.0450, 367.0332,  41.5669, 157.2302],\n",
            "        [ 30.2992, 301.3054,  58.8827, 138.9681],\n",
            "        [602.7980, 445.4261,  73.8769,  68.0164],\n",
            "        [127.4499, 424.5490,  80.5290,  92.3483],\n",
            "        [203.3448, 452.2368,  98.7948, 123.0372],\n",
            "        [ 22.7654, 561.8822,  45.2955, 151.5219],\n",
            "        [ 22.6084, 544.3665,  44.9740, 115.6077],\n",
            "        [ 30.2992, 301.3054,  58.8827, 138.9681],\n",
            "        [227.5988, 492.5369,  97.7272, 122.2202],\n",
            "        [125.1244, 415.2233,  83.2885, 100.5007],\n",
            "        [360.3613, 451.9741,  38.4145,  76.8798],\n",
            "        [356.0898, 427.9070,  12.6543,  28.6957],\n",
            "        [477.6200, 413.9963,  49.7093,  80.5826],\n",
            "        [110.5695, 386.2870,  50.2305,  42.3838],\n",
            "        [634.2855, 623.7001,  10.9308,  32.4402],\n",
            "        [ 22.6084, 544.3665,  44.9740, 115.6077],\n",
            "        [603.5155, 435.5300,  72.4647,  55.3920],\n",
            "        [163.2307, 370.9965,  58.9038,  43.1361],\n",
            "        [173.2747, 462.5790,  36.9597, 101.0018],\n",
            "        [198.7229, 370.9406, 131.7847,  67.6305]])\n",
            "xywhn: tensor([[0.3556, 0.7696, 0.1527, 0.1910],\n",
            "        [0.6123, 0.8997, 0.4967, 0.1998],\n",
            "        [0.0931, 0.4765, 0.0799, 0.1279],\n",
            "        [0.3177, 0.7066, 0.1544, 0.1922],\n",
            "        [0.4755, 0.7978, 0.1895, 0.1800],\n",
            "        [0.9347, 0.9501, 0.1297, 0.0990],\n",
            "        [0.3105, 0.5796, 0.2059, 0.1057],\n",
            "        [0.0353, 0.8506, 0.0703, 0.1806],\n",
            "        [0.1991, 0.6634, 0.1258, 0.1443],\n",
            "        [0.1705, 0.6406, 0.0794, 0.1422],\n",
            "        [0.4755, 0.7978, 0.1895, 0.1800],\n",
            "        [0.0921, 0.6214, 0.0823, 0.1350],\n",
            "        [0.6123, 0.8997, 0.4967, 0.1998],\n",
            "        [0.5999, 0.5139, 0.0655, 0.1738],\n",
            "        [0.3102, 0.5767, 0.2057, 0.1010],\n",
            "        [0.6618, 0.7599, 0.1378, 0.0762],\n",
            "        [0.7482, 0.5279, 0.0750, 0.1165],\n",
            "        [0.5398, 0.6599, 0.0216, 0.0498],\n",
            "        [0.6813, 0.5735, 0.0649, 0.2457],\n",
            "        [0.0473, 0.4708, 0.0920, 0.2171],\n",
            "        [0.9419, 0.6960, 0.1154, 0.1063],\n",
            "        [0.1991, 0.6634, 0.1258, 0.1443],\n",
            "        [0.3177, 0.7066, 0.1544, 0.1922],\n",
            "        [0.0356, 0.8779, 0.0708, 0.2368],\n",
            "        [0.0353, 0.8506, 0.0703, 0.1806],\n",
            "        [0.0473, 0.4708, 0.0920, 0.2171],\n",
            "        [0.3556, 0.7696, 0.1527, 0.1910],\n",
            "        [0.1955, 0.6488, 0.1301, 0.1570],\n",
            "        [0.5631, 0.7062, 0.0600, 0.1201],\n",
            "        [0.5564, 0.6686, 0.0198, 0.0448],\n",
            "        [0.7463, 0.6469, 0.0777, 0.1259],\n",
            "        [0.1728, 0.6036, 0.0785, 0.0662],\n",
            "        [0.9911, 0.9745, 0.0171, 0.0507],\n",
            "        [0.0353, 0.8506, 0.0703, 0.1806],\n",
            "        [0.9430, 0.6805, 0.1132, 0.0865],\n",
            "        [0.2550, 0.5797, 0.0920, 0.0674],\n",
            "        [0.2707, 0.7228, 0.0577, 0.1578],\n",
            "        [0.3105, 0.5796, 0.2059, 0.1057]])\n",
            "xyxy: tensor([[1.7874e+02, 4.3143e+02, 2.7646e+02, 5.5365e+02],\n",
            "        [2.3289e+02, 5.1188e+02, 5.5079e+02, 6.3973e+02],\n",
            "        [3.4051e+01, 2.6402e+02, 8.5166e+01, 3.4586e+02],\n",
            "        [1.5395e+02, 3.9072e+02, 2.5274e+02, 5.1376e+02],\n",
            "        [2.4368e+02, 4.5299e+02, 3.6495e+02, 5.6819e+02],\n",
            "        [5.5672e+02, 5.7634e+02, 6.3975e+02, 6.3973e+02],\n",
            "        [1.3283e+02, 3.3713e+02, 2.6462e+02, 4.0476e+02],\n",
            "        [1.2136e-01, 4.8656e+02, 4.5095e+01, 6.0217e+02],\n",
            "        [8.7185e+01, 3.7837e+02, 1.6771e+02, 4.7072e+02],\n",
            "        [8.3675e+01, 3.6449e+02, 1.3451e+02, 4.5553e+02],\n",
            "        [2.4368e+02, 4.5299e+02, 3.6495e+02, 5.6819e+02],\n",
            "        [3.2628e+01, 3.5453e+02, 8.5305e+01, 4.4091e+02],\n",
            "        [2.3289e+02, 5.1188e+02, 5.5079e+02, 6.3973e+02],\n",
            "        [3.6294e+02, 2.7330e+02, 4.0487e+02, 3.8455e+02],\n",
            "        [1.3270e+02, 3.3674e+02, 2.6435e+02, 4.0138e+02],\n",
            "        [3.7944e+02, 4.6196e+02, 4.6761e+02, 5.1075e+02],\n",
            "        [4.5483e+02, 3.0055e+02, 5.0281e+02, 3.7512e+02],\n",
            "        [3.3855e+02, 4.0643e+02, 3.5235e+02, 4.3829e+02],\n",
            "        [4.1526e+02, 2.8842e+02, 4.5683e+02, 4.4565e+02],\n",
            "        [8.5789e-01, 2.3182e+02, 5.9741e+01, 3.7079e+02],\n",
            "        [5.6586e+02, 4.1142e+02, 6.3974e+02, 4.7943e+02],\n",
            "        [8.7185e+01, 3.7837e+02, 1.6771e+02, 4.7072e+02],\n",
            "        [1.5395e+02, 3.9072e+02, 2.5274e+02, 5.1376e+02],\n",
            "        [1.1765e-01, 4.8612e+02, 4.5413e+01, 6.3764e+02],\n",
            "        [1.2136e-01, 4.8656e+02, 4.5095e+01, 6.0217e+02],\n",
            "        [8.5789e-01, 2.3182e+02, 5.9741e+01, 3.7079e+02],\n",
            "        [1.7874e+02, 4.3143e+02, 2.7646e+02, 5.5365e+02],\n",
            "        [8.3480e+01, 3.6497e+02, 1.6677e+02, 4.6547e+02],\n",
            "        [3.4115e+02, 4.1353e+02, 3.7957e+02, 4.9041e+02],\n",
            "        [3.4976e+02, 4.1356e+02, 3.6242e+02, 4.4225e+02],\n",
            "        [4.5277e+02, 3.7371e+02, 5.0247e+02, 4.5429e+02],\n",
            "        [8.5454e+01, 3.6510e+02, 1.3568e+02, 4.0748e+02],\n",
            "        [6.2882e+02, 6.0748e+02, 6.3975e+02, 6.3992e+02],\n",
            "        [1.2136e-01, 4.8656e+02, 4.5095e+01, 6.0217e+02],\n",
            "        [5.6728e+02, 4.0783e+02, 6.3975e+02, 4.6323e+02],\n",
            "        [1.3378e+02, 3.4943e+02, 1.9268e+02, 3.9256e+02],\n",
            "        [1.5479e+02, 4.1208e+02, 1.9175e+02, 5.1308e+02],\n",
            "        [1.3283e+02, 3.3713e+02, 2.6462e+02, 4.0476e+02]])\n",
            "xyxyn: tensor([[2.7927e-01, 6.7410e-01, 4.3197e-01, 8.6507e-01],\n",
            "        [3.6389e-01, 7.9981e-01, 8.6061e-01, 9.9957e-01],\n",
            "        [5.3205e-02, 4.1254e-01, 1.3307e-01, 5.4041e-01],\n",
            "        [2.4054e-01, 6.1050e-01, 3.9491e-01, 8.0274e-01],\n",
            "        [3.8075e-01, 7.0780e-01, 5.7024e-01, 8.8779e-01],\n",
            "        [8.6988e-01, 9.0053e-01, 9.9961e-01, 9.9957e-01],\n",
            "        [2.0755e-01, 5.2676e-01, 4.1346e-01, 6.3243e-01],\n",
            "        [1.8962e-04, 7.6025e-01, 7.0462e-02, 9.4089e-01],\n",
            "        [1.3623e-01, 5.9121e-01, 2.6205e-01, 7.3550e-01],\n",
            "        [1.3074e-01, 5.6952e-01, 2.1018e-01, 7.1177e-01],\n",
            "        [3.8075e-01, 7.0780e-01, 5.7024e-01, 8.8779e-01],\n",
            "        [5.0982e-02, 5.5396e-01, 1.3329e-01, 6.8893e-01],\n",
            "        [3.6389e-01, 7.9981e-01, 8.6061e-01, 9.9957e-01],\n",
            "        [5.6709e-01, 4.2703e-01, 6.3261e-01, 6.0087e-01],\n",
            "        [2.0735e-01, 5.2616e-01, 4.1305e-01, 6.2715e-01],\n",
            "        [5.9288e-01, 7.2181e-01, 7.3064e-01, 7.9805e-01],\n",
            "        [7.1067e-01, 4.6961e-01, 7.8565e-01, 5.8612e-01],\n",
            "        [5.2898e-01, 6.3505e-01, 5.5054e-01, 6.8482e-01],\n",
            "        [6.4885e-01, 4.5065e-01, 7.1379e-01, 6.9633e-01],\n",
            "        [1.3405e-03, 3.6222e-01, 9.3345e-02, 5.7936e-01],\n",
            "        [8.8416e-01, 6.4284e-01, 9.9959e-01, 7.4912e-01],\n",
            "        [1.3623e-01, 5.9121e-01, 2.6205e-01, 7.3550e-01],\n",
            "        [2.4054e-01, 6.1050e-01, 3.9491e-01, 8.0274e-01],\n",
            "        [1.8383e-04, 7.5956e-01, 7.0958e-02, 9.9632e-01],\n",
            "        [1.8962e-04, 7.6025e-01, 7.0462e-02, 9.4089e-01],\n",
            "        [1.3405e-03, 3.6222e-01, 9.3345e-02, 5.7936e-01],\n",
            "        [2.7927e-01, 6.7410e-01, 4.3197e-01, 8.6507e-01],\n",
            "        [1.3044e-01, 5.7027e-01, 2.6058e-01, 7.2730e-01],\n",
            "        [5.3305e-01, 6.4615e-01, 5.9308e-01, 7.6627e-01],\n",
            "        [5.4650e-01, 6.4619e-01, 5.6628e-01, 6.9102e-01],\n",
            "        [7.0745e-01, 5.8391e-01, 7.8512e-01, 7.0982e-01],\n",
            "        [1.3352e-01, 5.7046e-01, 2.1201e-01, 6.3669e-01],\n",
            "        [9.8253e-01, 9.4919e-01, 9.9961e-01, 9.9988e-01],\n",
            "        [1.8962e-04, 7.6025e-01, 7.0462e-02, 9.4089e-01],\n",
            "        [8.8638e-01, 6.3724e-01, 9.9961e-01, 7.2379e-01],\n",
            "        [2.0903e-01, 5.4598e-01, 3.0107e-01, 6.1338e-01],\n",
            "        [2.4187e-01, 6.4387e-01, 2.9962e-01, 8.0169e-01],\n",
            "        [2.0755e-01, 5.2676e-01, 4.1346e-01, 6.3243e-01]])\n"
          ]
        },
        {
          "output_type": "display_data",
          "data": {
            "text/plain": [
              "<IPython.core.display.Javascript object>"
            ],
            "application/javascript": [
              "\n",
              "    async function download(id, filename, size) {\n",
              "      if (!google.colab.kernel.accessAllowed) {\n",
              "        return;\n",
              "      }\n",
              "      const div = document.createElement('div');\n",
              "      const label = document.createElement('label');\n",
              "      label.textContent = `Downloading \"${filename}\": `;\n",
              "      div.appendChild(label);\n",
              "      const progress = document.createElement('progress');\n",
              "      progress.max = size;\n",
              "      div.appendChild(progress);\n",
              "      document.body.appendChild(div);\n",
              "\n",
              "      const buffers = [];\n",
              "      let downloaded = 0;\n",
              "\n",
              "      const channel = await google.colab.kernel.comms.open(id);\n",
              "      // Send a message to notify the kernel that we're ready.\n",
              "      channel.send({})\n",
              "\n",
              "      for await (const message of channel.messages) {\n",
              "        // Send a message to notify the kernel that we're ready.\n",
              "        channel.send({})\n",
              "        if (message.buffers) {\n",
              "          for (const buffer of message.buffers) {\n",
              "            buffers.push(buffer);\n",
              "            downloaded += buffer.byteLength;\n",
              "            progress.value = downloaded;\n",
              "          }\n",
              "        }\n",
              "      }\n",
              "      const blob = new Blob(buffers, {type: 'application/binary'});\n",
              "      const a = document.createElement('a');\n",
              "      a.href = window.URL.createObjectURL(blob);\n",
              "      a.download = filename;\n",
              "      div.appendChild(a);\n",
              "      a.click();\n",
              "      div.remove();\n",
              "    }\n",
              "  "
            ]
          },
          "metadata": {}
        },
        {
          "output_type": "display_data",
          "data": {
            "text/plain": [
              "<IPython.core.display.Javascript object>"
            ],
            "application/javascript": [
              "download(\"download_6a0f82db-8095-47ae-8e61-04c305c3e7ac\", \"predict10\", 4096)"
            ]
          },
          "metadata": {}
        }
      ]
    }
  ]
}